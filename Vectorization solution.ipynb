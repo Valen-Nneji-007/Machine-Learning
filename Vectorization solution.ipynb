{
 "cells": [
  {
   "cell_type": "code",
   "execution_count": 2,
   "id": "182303ae-74ee-4229-a76f-c9d692485ef0",
   "metadata": {},
   "outputs": [],
   "source": [
    "import numpy as np\n",
    "import time"
   ]
  },
  {
   "cell_type": "markdown",
   "id": "4d351c60-375d-47cd-ad0b-c7215ddd4217",
   "metadata": {},
   "source": [
    "## Vector Creation"
   ]
  },
  {
   "cell_type": "code",
   "execution_count": 3,
   "id": "ba6d6d3e-ab1f-4e24-a2fb-8e46e0ebda44",
   "metadata": {},
   "outputs": [
    {
     "name": "stdout",
     "output_type": "stream",
     "text": [
      "np.zeros(4):  a = [0. 0. 0. 0.], a shape =(4,), a data type = float64\n",
      "np.zeros(4,) : a=[0. 0. 0. 0.], a shape =(4,), a data type = float64\n",
      "np.random.random_sample(4): a = [0.03827962 0.60083278 0.71655446 0.03779291], a shape = (4,), a data type = float64\n"
     ]
    }
   ],
   "source": [
    "# Numpy routines which alloctae memory and fill arrays with values.\n",
    "a = np.zeros(4);     print(f\"np.zeros(4):  a = {a}, a shape ={a.shape}, a data type = {a.dtype}\")\n",
    "a = np.zeros((4,));  print(f\"np.zeros(4,) : a={a}, a shape ={a.shape}, a data type = {a.dtype}\")\n",
    "a = np.random.random_sample(4); print(f\"np.random.random_sample(4): a = {a}, a shape = {a.shape}, a data type = {a.dtype}\")"
   ]
  },
  {
   "cell_type": "code",
   "execution_count": 6,
   "id": "1e0fcee9-d1d7-4d4a-b716-88a365491bc3",
   "metadata": {},
   "outputs": [
    {
     "name": "stdout",
     "output_type": "stream",
     "text": [
      "np.arange(4.):     a = [0. 1. 2. 3.], a shape = (4,), a data type = float64\n",
      "np.random.rand(4): a = [0.42617388 0.25793919 0.26840283 0.76818449], a shape = (4,), a data type = float64\n"
     ]
    }
   ],
   "source": [
    "# NumPy routines which allocate memory and fill arrays with value but do not accept shape as input argument\n",
    "a = np.arange(4.);              print(f\"np.arange(4.):     a = {a}, a shape = {a.shape}, a data type = {a.dtype}\")\n",
    "a = np.random.rand(4);          print(f\"np.random.rand(4): a = {a}, a shape = {a.shape}, a data type = {a.dtype}\")"
   ]
  },
  {
   "cell_type": "code",
   "execution_count": 8,
   "id": "cdc34358-3c81-4088-8415-837f292ee26b",
   "metadata": {},
   "outputs": [
    {
     "data": {
      "text/plain": [
       "array([5, 4, 3, 2])"
      ]
     },
     "execution_count": 8,
     "metadata": {},
     "output_type": "execute_result"
    }
   ],
   "source": [
    "a= np.array([5,4,3,2])\n",
    "a"
   ]
  },
  {
   "cell_type": "code",
   "execution_count": 9,
   "id": "bb64d0ef-1c83-4614-9a9c-829b4a3394a5",
   "metadata": {},
   "outputs": [
    {
     "data": {
      "text/plain": [
       "array([5., 4., 3., 2.])"
      ]
     },
     "execution_count": 9,
     "metadata": {},
     "output_type": "execute_result"
    }
   ],
   "source": [
    "b =   np.array([5.,4,3,2])\n",
    "b"
   ]
  },
  {
   "cell_type": "markdown",
   "id": "a5484396-53a0-4169-817e-c46d20953884",
   "metadata": {},
   "source": [
    "## Operations On Vectors"
   ]
  },
  {
   "cell_type": "code",
   "execution_count": 13,
   "id": "ff845f28-b574-40cb-970a-489115f9432f",
   "metadata": {},
   "outputs": [
    {
     "data": {
      "text/plain": [
       "array([0, 1, 2, 3, 4, 5, 6, 7, 8, 9])"
      ]
     },
     "execution_count": 13,
     "metadata": {},
     "output_type": "execute_result"
    }
   ],
   "source": [
    "#vector indexing operation on 1-D vectors\n",
    "a = np.arange(10)\n",
    "a"
   ]
  },
  {
   "cell_type": "code",
   "execution_count": 18,
   "id": "812e49ee-e4a5-4554-8a83-52ecbd50929c",
   "metadata": {},
   "outputs": [
    {
     "name": "stdout",
     "output_type": "stream",
     "text": [
      "a[2].shape: ()  a[2] = 2\n"
     ]
    }
   ],
   "source": [
    "#access an element\n",
    "print(f\"a[2].shape: {a[2].shape}  a[2] = {a[2]}\")"
   ]
  },
  {
   "cell_type": "code",
   "execution_count": 20,
   "id": "6c52569e-dc27-4c70-a0ad-d76820cd65ca",
   "metadata": {},
   "outputs": [
    {
     "data": {
      "text/plain": [
       "9"
      ]
     },
     "execution_count": 20,
     "metadata": {},
     "output_type": "execute_result"
    }
   ],
   "source": [
    "# access the last element, negative indexes count from the end\n",
    "#print(f\"a[-1]={a[-1]}\")\n",
    "a[-1]"
   ]
  },
  {
   "cell_type": "code",
   "execution_count": 24,
   "id": "4f6b83e8-d20c-4e0c-a10a-48579ccc7ce5",
   "metadata": {},
   "outputs": [
    {
     "name": "stdout",
     "output_type": "stream",
     "text": [
      "index 10 is out of bounds for axis 0 with size 10\n"
     ]
    }
   ],
   "source": [
    "# indexes muts be within the range of the vector or they wil produce and error\n",
    "try:\n",
    "    c=a[10]\n",
    "except Exception as e:\n",
    "    print(e)"
   ]
  },
  {
   "cell_type": "markdown",
   "id": "081afaaf-826c-46b6-9707-9dc6c13c306d",
   "metadata": {},
   "source": [
    "## Slicing"
   ]
  },
  {
   "cell_type": "code",
   "execution_count": 26,
   "id": "f33ff33d-dfaa-423a-9102-1b89a04bc86d",
   "metadata": {},
   "outputs": [
    {
     "data": {
      "text/plain": [
       "array([0, 1, 2, 3, 4, 5, 6, 7, 8, 9])"
      ]
     },
     "execution_count": 26,
     "metadata": {},
     "output_type": "execute_result"
    }
   ],
   "source": [
    "#Vector slicing operation\n",
    "a  = np.arange(10)\n",
    "a"
   ]
  },
  {
   "cell_type": "code",
   "execution_count": 28,
   "id": "f1106781-2cad-4fac-bbea-feaa8fcf513c",
   "metadata": {},
   "outputs": [
    {
     "data": {
      "text/plain": [
       "array([2, 3, 4, 5, 6])"
      ]
     },
     "execution_count": 28,
     "metadata": {},
     "output_type": "execute_result"
    }
   ],
   "source": [
    "#access 5 consecutive elements (start:stop:step)\n",
    "c = a[2:7:1]\n",
    "c"
   ]
  },
  {
   "cell_type": "code",
   "execution_count": 29,
   "id": "6ad96a75-00d0-46f4-a995-9f3e3e240dda",
   "metadata": {},
   "outputs": [
    {
     "data": {
      "text/plain": [
       "array([2, 4, 6])"
      ]
     },
     "execution_count": 29,
     "metadata": {},
     "output_type": "execute_result"
    }
   ],
   "source": [
    "c = a[2:7:2]\n",
    "c"
   ]
  },
  {
   "cell_type": "code",
   "execution_count": 30,
   "id": "fc621dbe-2688-4eb5-86a9-d4e214f8e0d1",
   "metadata": {},
   "outputs": [
    {
     "data": {
      "text/plain": [
       "array([3, 4, 5, 6, 7, 8, 9])"
      ]
     },
     "execution_count": 30,
     "metadata": {},
     "output_type": "execute_result"
    }
   ],
   "source": [
    "c = a[3:]\n",
    "c"
   ]
  },
  {
   "cell_type": "code",
   "execution_count": 31,
   "id": "335da84b-299f-4d0e-ac3e-78f0509604b0",
   "metadata": {},
   "outputs": [
    {
     "data": {
      "text/plain": [
       "array([0, 1, 2])"
      ]
     },
     "execution_count": 31,
     "metadata": {},
     "output_type": "execute_result"
    }
   ],
   "source": [
    "c = a[:3]\n",
    "c"
   ]
  },
  {
   "cell_type": "code",
   "execution_count": 32,
   "id": "19dadaf3-4ec1-4187-9a5b-f8a5e76e35e6",
   "metadata": {},
   "outputs": [
    {
     "data": {
      "text/plain": [
       "array([0, 1, 2, 3, 4, 5, 6, 7, 8, 9])"
      ]
     },
     "execution_count": 32,
     "metadata": {},
     "output_type": "execute_result"
    }
   ],
   "source": [
    "c = a[:]\n",
    "c"
   ]
  },
  {
   "cell_type": "markdown",
   "id": "d65d3477-1662-40d8-be36-31860301f4c9",
   "metadata": {},
   "source": [
    "## Single Vector Operationx"
   ]
  },
  {
   "cell_type": "code",
   "execution_count": 34,
   "id": "e6cc63bc-367c-41fd-b7fd-211e6bc788a6",
   "metadata": {},
   "outputs": [
    {
     "name": "stdout",
     "output_type": "stream",
     "text": [
      "a:[1 2 3 4]\n"
     ]
    }
   ],
   "source": [
    "a = np.array([1,2,3,4])\n",
    "print(f\"a:{a}\")"
   ]
  },
  {
   "cell_type": "code",
   "execution_count": 36,
   "id": "66bdfd5c-f4bb-4704-af76-f883b3186d09",
   "metadata": {},
   "outputs": [
    {
     "name": "stdout",
     "output_type": "stream",
     "text": [
      "b=-a:[-1 -2 -3 -4]\n"
     ]
    }
   ],
   "source": [
    "b = -a\n",
    "print(f\"b=-a:{b}\")"
   ]
  },
  {
   "cell_type": "code",
   "execution_count": 37,
   "id": "8f1ded46-0274-45c1-87d7-58f4e3dd2d83",
   "metadata": {},
   "outputs": [
    {
     "name": "stdout",
     "output_type": "stream",
     "text": [
      "b = np.sum(a): 10\n"
     ]
    }
   ],
   "source": [
    "b = np.sum(a)\n",
    "print(f\"b = np.sum(a): {b}\")"
   ]
  },
  {
   "cell_type": "code",
   "execution_count": 38,
   "id": "0508ec3a-ec3b-41d8-97a0-434dbcda28e6",
   "metadata": {},
   "outputs": [
    {
     "name": "stdout",
     "output_type": "stream",
     "text": [
      "b = np.mean(a): 2.5\n"
     ]
    }
   ],
   "source": [
    "b = np.mean(a)\n",
    "print(f\"b = np.mean(a): {b}\")"
   ]
  },
  {
   "cell_type": "code",
   "execution_count": 39,
   "id": "e56927ca-e7b5-469a-8ce7-9552a665fd24",
   "metadata": {},
   "outputs": [
    {
     "name": "stdout",
     "output_type": "stream",
     "text": [
      "b = a**2: [ 1  4  9 16]\n"
     ]
    }
   ],
   "source": [
    "b =  a**2\n",
    "print(f\"b = a**2: {b}\")"
   ]
  },
  {
   "cell_type": "markdown",
   "id": "60d261b0-9987-4201-b8b1-8d40e5009acd",
   "metadata": {},
   "source": [
    "## 3.4.4 Vector Vector element-wise operations"
   ]
  },
  {
   "cell_type": "code",
   "execution_count": 41,
   "id": "91039bc4-cf8c-4f21-9599-f6cbb9692039",
   "metadata": {},
   "outputs": [
    {
     "name": "stdout",
     "output_type": "stream",
     "text": [
      "Binary operators work element wise: [0 0 0 0]\n"
     ]
    }
   ],
   "source": [
    "a = np.array([1,2,3,4])\n",
    "b = np.array([-1,-2,-3,-4])\n",
    "print(f\"Binary operators work element wise: {a + b}\")"
   ]
  },
  {
   "cell_type": "code",
   "execution_count": 43,
   "id": "24996192-9c80-44f9-95b9-9f7b6894ba67",
   "metadata": {},
   "outputs": [
    {
     "name": "stdout",
     "output_type": "stream",
     "text": [
      "The error message you'll see is:\n",
      "operands could not be broadcast together with shapes (4,) (2,) \n"
     ]
    }
   ],
   "source": [
    "# try a mismatched vector operation\n",
    "c = np.array([1,2])\n",
    "try:\n",
    "    d = a + c\n",
    "except Exception as e :\n",
    "    print(\"The error message you'll see is:\")\n",
    "    print(e)"
   ]
  },
  {
   "cell_type": "markdown",
   "id": "de1df318-ab5c-4571-a543-16b4afab77aa",
   "metadata": {},
   "source": [
    "## 3.4.5 Vector Operations"
   ]
  },
  {
   "cell_type": "code",
   "execution_count": 48,
   "id": "cbac56da-e604-4bad-b155-bcf3ff85494a",
   "metadata": {},
   "outputs": [
    {
     "data": {
      "text/plain": [
       "array([ 5, 10, 15, 20])"
      ]
     },
     "execution_count": 48,
     "metadata": {},
     "output_type": "execute_result"
    }
   ],
   "source": [
    "a =  np.array([1, 2, 3,4])\n",
    "\n",
    "# multiply a by a scalar\n",
    "b = 5 * a\n",
    "b\n"
   ]
  },
  {
   "cell_type": "markdown",
   "id": "15250ede-930a-4a19-ba70-e049f4699fea",
   "metadata": {},
   "source": [
    "# 3.4.6 Vector Vector dot Product"
   ]
  },
  {
   "cell_type": "code",
   "execution_count": 50,
   "id": "dd459247-0c48-4707-ac5c-047738af1e2e",
   "metadata": {},
   "outputs": [],
   "source": [
    "def my_dot(a, b):\n",
    "    \"\"\" \n",
    "    Compute the dot product of two vectors\n",
    "\n",
    "    Args:\n",
    "        a (ndarray (n,)): input vector\n",
    "        b (ndarray (n,)): input vector with same dimension as a\n",
    "\n",
    "    Returns:\n",
    "    x (scalar):\n",
    "    \"\"\"\n",
    "    x = 0\n",
    "    for i in range (a.shape[0]):\n",
    "        x = x+ a[i] * b[i]\n",
    "        return x"
   ]
  },
  {
   "cell_type": "code",
   "execution_count": 56,
   "id": "8c0fb023-a41f-4c72-be4b-929cdb3fca81",
   "metadata": {},
   "outputs": [
    {
     "name": "stdout",
     "output_type": "stream",
     "text": [
      "my_dot(a, b) = -1\n"
     ]
    }
   ],
   "source": [
    "# test 1-D\n",
    "a = np.array([1,2,3,4])\n",
    "b =  np.array([-1, 4, 3, 2])\n",
    "print(f\"my_dot(a, b) = {my_dot(a, b)}\")"
   ]
  },
  {
   "cell_type": "code",
   "execution_count": 55,
   "id": "8a3f7c31-5b96-46f5-babf-0598cb6fad9f",
   "metadata": {},
   "outputs": [
    {
     "data": {
      "text/plain": [
       "24"
      ]
     },
     "execution_count": 55,
     "metadata": {},
     "output_type": "execute_result"
    }
   ],
   "source": [
    "# test 1-D\n",
    "a = np.array([1,2,3,4])\n",
    "b = np.array([-1, 4, 3, 2])\n",
    "c = np.dot(a, b)\n",
    "c"
   ]
  },
  {
   "cell_type": "markdown",
   "id": "b8003573-80ac-404b-8c8a-4c28e8b3c2ea",
   "metadata": {},
   "source": [
    "# 3.4.7 The Need for Speed: Vector Vs for loop"
   ]
  },
  {
   "cell_type": "code",
   "execution_count": 63,
   "id": "84bdce66-40cf-4558-a1c1-a9040fdd7973",
   "metadata": {},
   "outputs": [
    {
     "name": "stdout",
     "output_type": "stream",
     "text": [
      " 2501072.58\n"
     ]
    }
   ],
   "source": [
    "np.random.seed(1)\n",
    "a = np.random.rand(10000000)    # very large arrays\n",
    "b = np.random.rand(10000000)\n",
    "\n",
    "tic = time.time()  # capture start time\n",
    "c =  np.dot(a, b)\n",
    "toc = time.time()  # capture end time\n",
    "print(f\"{c: .2f}\")"
   ]
  },
  {
   "cell_type": "code",
   "execution_count": 67,
   "id": "d8472363-33bf-4a8d-a8b3-77919ebb5877",
   "metadata": {},
   "outputs": [
    {
     "name": "stdout",
     "output_type": "stream",
     "text": [
      "9.9738ms\n"
     ]
    }
   ],
   "source": [
    "print(f\"{1000*(toc-tic):.4f}ms\")"
   ]
  },
  {
   "cell_type": "code",
   "execution_count": 68,
   "id": "6509cb6a-d9eb-4916-8c38-af6434c3e222",
   "metadata": {},
   "outputs": [
    {
     "data": {
      "text/plain": [
       "1713543552.847993"
      ]
     },
     "execution_count": 68,
     "metadata": {},
     "output_type": "execute_result"
    }
   ],
   "source": [
    "toc"
   ]
  },
  {
   "cell_type": "code",
   "execution_count": 69,
   "id": "cf888f93-8495-410e-b927-4d54155ce5e6",
   "metadata": {},
   "outputs": [
    {
     "data": {
      "text/plain": [
       "1713543552.8380191"
      ]
     },
     "execution_count": 69,
     "metadata": {},
     "output_type": "execute_result"
    }
   ],
   "source": [
    "tic"
   ]
  },
  {
   "cell_type": "code",
   "execution_count": 76,
   "id": "a4d55345-3539-416e-bde1-dc725cce38b4",
   "metadata": {},
   "outputs": [
    {
     "data": {
      "text/plain": [
       "dtype('float64')"
      ]
     },
     "execution_count": 76,
     "metadata": {},
     "output_type": "execute_result"
    }
   ],
   "source": []
  },
  {
   "cell_type": "markdown",
   "id": "3cf4b701-164b-40f5-88fc-28850f515902",
   "metadata": {},
   "source": [
    "## 3.4.8 Vector Vector Operations "
   ]
  },
  {
   "cell_type": "code",
   "execution_count": 79,
   "id": "18bafa12-1438-458c-a533-278d182610fa",
   "metadata": {},
   "outputs": [
    {
     "data": {
      "text/plain": [
       "((1,), (1,), ())"
      ]
     },
     "execution_count": 79,
     "metadata": {},
     "output_type": "execute_result"
    }
   ],
   "source": [
    "# show common \n",
    "X = np.array([[1],[2],[3],[4]])\n",
    "w = np.array([2])\n",
    "c = np.dot(X[1], w)\n",
    "\n",
    "X[1].shape, w.shape, c.shape"
   ]
  },
  {
   "cell_type": "markdown",
   "id": "e8e3abc2-6bc5-434a-b8f7-2a2695cfc89f",
   "metadata": {},
   "source": [
    "## Matrices"
   ]
  },
  {
   "cell_type": "code",
   "execution_count": 82,
   "id": "9ea9e9bf-dee7-4ef0-8ff4-19384210f624",
   "metadata": {},
   "outputs": [
    {
     "name": "stdout",
     "output_type": "stream",
     "text": [
      "a  shape = (1, 5), a=[[0. 0. 0. 0. 0.]]\n",
      "a shape = (2, 1), a = [[0.]\n",
      " [0.]]\n",
      "a shape = (1, 1), a =[[0.44236513]]\n"
     ]
    }
   ],
   "source": [
    "a = np.zeros((1, 5))\n",
    "print(f\"a  shape = {a.shape}, a={a}\")\n",
    "\n",
    "a = np.zeros((2,  1))\n",
    "print(f\"a shape = {a.shape}, a = {a}\")\n",
    "\n",
    "a = np.random.random_sample((1, 1))\n",
    "print(f\"a shape = {a.shape}, a ={a}\")"
   ]
  },
  {
   "cell_type": "code",
   "execution_count": 83,
   "id": "4160fdef-6785-4e0b-8d98-d2653edc5bf2",
   "metadata": {},
   "outputs": [
    {
     "name": "stdout",
     "output_type": "stream",
     "text": [
      " a shape = (3, 1), np.array: a = [[5]\n",
      " [4]\n",
      " [3]]\n",
      " a shape =  (3, 1), np.array: a=[[5]\n",
      " [4]\n",
      " [3]]\n"
     ]
    }
   ],
   "source": [
    "# Numpy routines which allocate memory and fill with user specified values\n",
    "\n",
    "a = np.array([[5], [4], [3]]);  print(f\" a shape = {a.shape}, np.array: a = {a}\")\n",
    "a = np.array([[5],\n",
    "              [4],\n",
    "              [3]])\n",
    "print(f\" a shape =  {a.shape}, np.array: a={a}\")"
   ]
  },
  {
   "cell_type": "markdown",
   "id": "70688a2d-f932-4997-8d59-e627dd9b9104",
   "metadata": {},
   "source": [
    "# 4.4 Operations On Matrices"
   ]
  },
  {
   "cell_type": "code",
   "execution_count": 97,
   "id": "48ea19a6-006b-4a63-a8cf-4d742d251dc2",
   "metadata": {},
   "outputs": [
    {
     "data": {
      "text/plain": [
       "array([[ 0,  1,  2,  3,  4,  5,  6,  7,  8,  9],\n",
       "       [10, 11, 12, 13, 14, 15, 16, 17, 18, 19],\n",
       "       [20, 21, 22, 23, 24, 25, 26, 27, 28, 29]])"
      ]
     },
     "execution_count": 97,
     "metadata": {},
     "output_type": "execute_result"
    }
   ],
   "source": [
    "a = np.arange(30).reshape(-1, 10)\n",
    "a"
   ]
  },
  {
   "cell_type": "code",
   "execution_count": 95,
   "id": "3be84aa0-935e-46b8-b12c-f8be3824bf20",
   "metadata": {},
   "outputs": [
    {
     "data": {
      "text/plain": [
       "array([2, 3, 4, 5, 6])"
      ]
     },
     "execution_count": 95,
     "metadata": {},
     "output_type": "execute_result"
    }
   ],
   "source": [
    "a[0, 2:7:1]"
   ]
  },
  {
   "cell_type": "code",
   "execution_count": 98,
   "id": "df7fe08a-f896-4db7-a171-d9dba8647623",
   "metadata": {},
   "outputs": [
    {
     "data": {
      "text/plain": [
       "array([[ 2,  3,  4,  5,  6],\n",
       "       [12, 13, 14, 15, 16],\n",
       "       [22, 23, 24, 25, 26]])"
      ]
     },
     "execution_count": 98,
     "metadata": {},
     "output_type": "execute_result"
    }
   ],
   "source": [
    "a[:, 2:7:1]"
   ]
  },
  {
   "cell_type": "code",
   "execution_count": 99,
   "id": "6e37ef38-2189-4392-a6d4-51bc6a720241",
   "metadata": {},
   "outputs": [
    {
     "data": {
      "text/plain": [
       "array([[ 0,  1,  2,  3,  4,  5,  6,  7,  8,  9],\n",
       "       [10, 11, 12, 13, 14, 15, 16, 17, 18, 19],\n",
       "       [20, 21, 22, 23, 24, 25, 26, 27, 28, 29]])"
      ]
     },
     "execution_count": 99,
     "metadata": {},
     "output_type": "execute_result"
    }
   ],
   "source": [
    "a[:,:] "
   ]
  },
  {
   "cell_type": "code",
   "execution_count": 101,
   "id": "160a063f-0f34-46c9-b10a-6377a2d978b3",
   "metadata": {},
   "outputs": [
    {
     "data": {
      "text/plain": [
       "array([10, 11, 12, 13, 14, 15, 16, 17, 18, 19])"
      ]
     },
     "execution_count": 101,
     "metadata": {},
     "output_type": "execute_result"
    }
   ],
   "source": [
    "a[1,:]"
   ]
  },
  {
   "cell_type": "code",
   "execution_count": 102,
   "id": "f0ab4cfa-d8c9-4a1d-9dcc-e08390fce154",
   "metadata": {},
   "outputs": [
    {
     "data": {
      "text/plain": [
       "array([0, 1, 2, 3, 4, 5, 6, 7, 8, 9])"
      ]
     },
     "execution_count": 102,
     "metadata": {},
     "output_type": "execute_result"
    }
   ],
   "source": [
    "a[0, :]"
   ]
  },
  {
   "cell_type": "code",
   "execution_count": null,
   "id": "e007e4a7-fa2e-4450-b0c6-716321495c6d",
   "metadata": {},
   "outputs": [],
   "source": []
  }
 ],
 "metadata": {
  "kernelspec": {
   "display_name": "Python 3 (ipykernel)",
   "language": "python",
   "name": "python3"
  },
  "language_info": {
   "codemirror_mode": {
    "name": "ipython",
    "version": 3
   },
   "file_extension": ".py",
   "mimetype": "text/x-python",
   "name": "python",
   "nbconvert_exporter": "python",
   "pygments_lexer": "ipython3",
   "version": "3.12.2"
  }
 },
 "nbformat": 4,
 "nbformat_minor": 5
}
